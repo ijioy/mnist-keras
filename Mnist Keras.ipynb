{
  "nbformat": 4,
  "nbformat_minor": 0,
  "metadata": {
    "colab": {
      "name": "praktikPmesin11.ipynb",
      "provenance": []
    },
    "kernelspec": {
      "name": "python3",
      "display_name": "Python 3"
    },
    "language_info": {
      "name": "python"
    }
  },
  "cells": [
    {
      "cell_type": "code",
      "execution_count": 1,
      "metadata": {
        "id": "lKgwfls2geyE",
        "colab": {
          "base_uri": "https://localhost:8080/"
        },
        "outputId": "5ce084e7-3325-49fb-a4b1-7fda89f09e4f"
      },
      "outputs": [
        {
          "output_type": "stream",
          "name": "stdout",
          "text": [
            "Downloading data from https://storage.googleapis.com/tensorflow/tf-keras-datasets/mnist.npz\n",
            "11493376/11490434 [==============================] - 0s 0us/step\n",
            "11501568/11490434 [==============================] - 0s 0us/step\n"
          ]
        }
      ],
      "source": [
        "from keras.datasets import mnist\n",
        "#download mnist data and split into train and test sets\n",
        "(X_train, y_train),(X_test, y_test) = mnist.load_data()"
      ]
    },
    {
      "cell_type": "code",
      "source": [
        "import matplotlib.pyplot as plt\n",
        "#plot the first image in the dataset\n",
        "plt.imshow(X_train[0])"
      ],
      "metadata": {
        "colab": {
          "base_uri": "https://localhost:8080/",
          "height": 282
        },
        "id": "lTnYgjDhg3Ul",
        "outputId": "068536b3-7309-4b72-b9ec-b12f9d36e244"
      },
      "execution_count": 2,
      "outputs": [
        {
          "output_type": "execute_result",
          "data": {
            "text/plain": [
              "<matplotlib.image.AxesImage at 0x7f9e8f59b390>"
            ]
          },
          "metadata": {},
          "execution_count": 2
        },
        {
          "output_type": "display_data",
          "data": {
            "image/png": "[encoded data removed]",
            "text/plain": [
              "<Figure size 432x288 with 1 Axes>"
            ]
          },
          "metadata": {
            "needs_background": "light"
          }
        }
      ]
    },
    {
      "cell_type": "code",
      "source": [
        "#check image shape\n",
        "X_train[0].shape"
      ],
      "metadata": {
        "colab": {
          "base_uri": "https://localhost:8080/"
        },
        "id": "z3xa9UXVhCTK",
        "outputId": "4e11693b-484f-41a5-a83e-917175469419"
      },
      "execution_count": 3,
      "outputs": [
        {
          "output_type": "execute_result",
          "data": {
            "text/plain": [
              "(28, 28)"
            ]
          },
          "metadata": {},
          "execution_count": 3
        }
      ]
    },
    {
      "cell_type": "code",
      "source": [
        "#reshape data to fit model\n",
        "X_train = X_train.reshape(len(X_train), 28,28,1)\n",
        "X_test = X_test.reshape(len(X_test),28,28,1)"
      ],
      "metadata": {
        "id": "cMTNHgShhUlu"
      },
      "execution_count": 4,
      "outputs": []
    },
    {
      "cell_type": "code",
      "source": [
        "from tensorflow.keras.utils import to_categorical\n",
        "#one-hot encode target column\n",
        "y_train = to_categorical(y_train)\n",
        "y_test = to_categorical(y_test)\n",
        "y_train[0]"
      ],
      "metadata": {
        "colab": {
          "base_uri": "https://localhost:8080/"
        },
        "id": "INCC01XyhtRy",
        "outputId": "306786d1-b322-4b21-cb33-5d89f9b68931"
      },
      "execution_count": 5,
      "outputs": [
        {
          "output_type": "execute_result",
          "data": {
            "text/plain": [
              "array([0., 0., 0., 0., 0., 1., 0., 0., 0., 0.], dtype=float32)"
            ]
          },
          "metadata": {},
          "execution_count": 5
        }
      ]
    },
    {
      "cell_type": "code",
      "source": [
        "from keras.models import Sequential\n",
        "from keras.layers import Dense, Conv2D, Flatten\n",
        "#create model\n",
        "model = Sequential()\n",
        "#add model layers\n",
        "model.add(Conv2D(64, kernel_size=3, activation=\"relu\", input_shape=(28,28,1)))\n",
        "model.add(Conv2D(32, kernel_size=3, activation=\"relu\"))\n",
        "model.add(Flatten())\n",
        "model.add(Dense(10, activation=\"softmax\"))"
      ],
      "metadata": {
        "id": "u5mGN6MRiLnR"
      },
      "execution_count": 6,
      "outputs": []
    },
    {
      "cell_type": "code",
      "source": [
        "#compile model using accuracy to meaasure model performance\n",
        "model.compile(optimizer='adam', loss='categorical_crossentropy', metrics=['accuracy'])"
      ],
      "metadata": {
        "id": "4jfVSKmRimVm"
      },
      "execution_count": 7,
      "outputs": []
    },
    {
      "cell_type": "code",
      "source": [
        "#traing the model\n",
        "model.fit(X_train, y_train, validation_split=0.3, epochs=3)"
      ],
      "metadata": {
        "colab": {
          "base_uri": "https://localhost:8080/"
        },
        "id": "8miGxMiLjXpj",
        "outputId": "3efe7c6c-a038-48d0-85c6-cec75ca07b2a"
      },
      "execution_count": 8,
      "outputs": [
        {
          "output_type": "stream",
          "name": "stdout",
          "text": [
            "Epoch 1/3\n",
            "1313/1313 [==============================] - 123s 93ms/step - loss: 0.2991 - accuracy: 0.9442 - val_loss: 0.1247 - val_accuracy: 0.9631\n",
            "Epoch 2/3\n",
            "1313/1313 [==============================] - 114s 87ms/step - loss: 0.0709 - accuracy: 0.9785 - val_loss: 0.1232 - val_accuracy: 0.9691\n",
            "Epoch 3/3\n",
            "1313/1313 [==============================] - 115s 87ms/step - loss: 0.0476 - accuracy: 0.9852 - val_loss: 0.1178 - val_accuracy: 0.9726\n"
          ]
        },
        {
          "output_type": "execute_result",
          "data": {
            "text/plain": [
              "<keras.callbacks.History at 0x7f9e8abe84d0>"
            ]
          },
          "metadata": {},
          "execution_count": 8
        }
      ]
    },
    {
      "cell_type": "code",
      "source": [
        "loss, acc = model.evaluate(X_test, y_test, verbose=2)\n",
        "print('accuracy: {:5.2f}%'.format(100 * acc))"
      ],
      "metadata": {
        "colab": {
          "base_uri": "https://localhost:8080/"
        },
        "id": "YiRlWDWojtbE",
        "outputId": "950097fc-5a59-4ef3-ab62-dbb17ea10ec4"
      },
      "execution_count": 9,
      "outputs": [
        {
          "output_type": "stream",
          "name": "stdout",
          "text": [
            "313/313 - 5s - loss: 0.0990 - accuracy: 0.9755 - 5s/epoch - 17ms/step\n",
            "accuracy: 97.55%\n"
          ]
        }
      ]
    },
    {
      "cell_type": "markdown",
      "source": [
        "## Percobaan merubah nilai parameter"
      ],
      "metadata": {
        "id": "5D7A9V8gk7xK"
      }
    },
    {
      "cell_type": "code",
      "source": [
        "from keras.models import Sequential\n",
        "from keras.layers import Dense, Conv2D, Flatten\n",
        "#create model\n",
        "model = Sequential()\n",
        "#add model layers\n",
        "model.add(Conv2D(50, kernel_size=2, activation=\"relu\", input_shape=(28,28,1)))\n",
        "model.add(Conv2D(100, kernel_size=3, activation=\"relu\"))\n",
        "model.add(Flatten())\n",
        "model.add(Dense(10, activation=\"softmax\"))"
      ],
      "metadata": {
        "id": "zqauCbe0lAfn"
      },
      "execution_count": 10,
      "outputs": []
    },
    {
      "cell_type": "code",
      "source": [
        "#compile model using accuracy to meaasure model performance\n",
        "model.compile(optimizer='adam', loss='categorical_crossentropy', metrics=['accuracy'])"
      ],
      "metadata": {
        "id": "pSUG1TrqmKkb"
      },
      "execution_count": 11,
      "outputs": []
    },
    {
      "cell_type": "code",
      "source": [
        "#traing the model\n",
        "model.fit(X_train, y_train, validation_split=0.3, epochs=5)"
      ],
      "metadata": {
        "colab": {
          "base_uri": "https://localhost:8080/"
        },
        "id": "WDKEgNDFmaT-",
        "outputId": "bdcf8597-ac1c-48ad-9d1a-0d8789d19198"
      },
      "execution_count": 12,
      "outputs": [
        {
          "output_type": "stream",
          "name": "stdout",
          "text": [
            "Epoch 1/5\n",
            "1313/1313 [==============================] - 209s 159ms/step - loss: 0.4431 - accuracy: 0.9444 - val_loss: 0.1128 - val_accuracy: 0.9706\n",
            "Epoch 2/5\n",
            "1313/1313 [==============================] - 208s 159ms/step - loss: 0.0773 - accuracy: 0.9775 - val_loss: 0.1402 - val_accuracy: 0.9622\n",
            "Epoch 3/5\n",
            "1313/1313 [==============================] - 206s 157ms/step - loss: 0.0486 - accuracy: 0.9848 - val_loss: 0.1224 - val_accuracy: 0.9700\n",
            "Epoch 4/5\n",
            "1313/1313 [==============================] - 206s 157ms/step - loss: 0.0326 - accuracy: 0.9896 - val_loss: 0.1385 - val_accuracy: 0.9707\n",
            "Epoch 5/5\n",
            "1313/1313 [==============================] - 206s 157ms/step - loss: 0.0255 - accuracy: 0.9914 - val_loss: 0.1581 - val_accuracy: 0.9669\n"
          ]
        },
        {
          "output_type": "execute_result",
          "data": {
            "text/plain": [
              "<keras.callbacks.History at 0x7f9e8ab55350>"
            ]
          },
          "metadata": {},
          "execution_count": 12
        }
      ]
    },
    {
      "cell_type": "code",
      "source": [
        "loss, acc = model.evaluate(X_test, y_test, verbose=2)\n",
        "print('accuracy: {:5.2f}%'.format(100 * acc))"
      ],
      "metadata": {
        "colab": {
          "base_uri": "https://localhost:8080/"
        },
        "id": "EvWDpSVRmc0A",
        "outputId": "6b73a409-f19a-4387-bbc8-b3529a579645"
      },
      "execution_count": 13,
      "outputs": [
        {
          "output_type": "stream",
          "name": "stdout",
          "text": [
            "313/313 - 11s - loss: 0.1431 - accuracy: 0.9702 - 11s/epoch - 36ms/step\n",
            "accuracy: 97.02%\n"
          ]
        }
      ]
    },
    {
      "cell_type": "code",
      "source": [
        ""
      ],
      "metadata": {
        "id": "AuKFdZ4cp5HX"
      },
      "execution_count": 13,
      "outputs": []
    }
  ]
}